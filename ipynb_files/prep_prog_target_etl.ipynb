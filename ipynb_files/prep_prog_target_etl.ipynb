{
 "cells": [
  {
   "cell_type": "code",
   "execution_count": 1,
   "id": "99c3852d",
   "metadata": {},
   "outputs": [],
   "source": [
    "import pandas as pd"
   ]
  },
  {
   "cell_type": "markdown",
   "id": "9740ca7e",
   "metadata": {},
   "source": [
    "### Read TU_TM1_**** and TC_TM1_****"
   ]
  },
  {
   "cell_type": "code",
   "execution_count": 2,
   "id": "a3048592",
   "metadata": {},
   "outputs": [],
   "source": [
    "tu_tm1 = pd.read_excel(\"X:/QSDOCS/PRD/DATA/Target/Weekly/RawData/Y26B New Reg R3.2 20250925_marcomm.xlsx\",sheet_name=\"TU_TM1_7473\")"
   ]
  },
  {
   "cell_type": "code",
   "execution_count": 3,
   "id": "df35f2c9",
   "metadata": {},
   "outputs": [
    {
     "data": {
      "text/html": [
       "<div>\n",
       "<style scoped>\n",
       "    .dataframe tbody tr th:only-of-type {\n",
       "        vertical-align: middle;\n",
       "    }\n",
       "\n",
       "    .dataframe tbody tr th {\n",
       "        vertical-align: top;\n",
       "    }\n",
       "\n",
       "    .dataframe thead th {\n",
       "        text-align: right;\n",
       "    }\n",
       "</style>\n",
       "<table border=\"1\" class=\"dataframe\">\n",
       "  <thead>\n",
       "    <tr style=\"text-align: right;\">\n",
       "      <th></th>\n",
       "      <th>Faculty</th>\n",
       "      <th>School</th>\n",
       "      <th>Cycle</th>\n",
       "      <th>Programme Name_TM1</th>\n",
       "      <th>INTAKE</th>\n",
       "      <th>New - Local</th>\n",
       "      <th>New - International</th>\n",
       "      <th>New - Progression</th>\n",
       "    </tr>\n",
       "  </thead>\n",
       "  <tbody>\n",
       "    <tr>\n",
       "      <th>0</th>\n",
       "      <td>FSLM</td>\n",
       "      <td>TCI</td>\n",
       "      <td>C2</td>\n",
       "      <td>Advanced Diploma in Patisserie and Gastronomic...</td>\n",
       "      <td>202604</td>\n",
       "      <td>7</td>\n",
       "      <td>0</td>\n",
       "      <td>3</td>\n",
       "    </tr>\n",
       "    <tr>\n",
       "      <th>1</th>\n",
       "      <td>FSLM</td>\n",
       "      <td>TCI</td>\n",
       "      <td>C3</td>\n",
       "      <td>Advanced Diploma in Patisserie and Gastronomic...</td>\n",
       "      <td>202608</td>\n",
       "      <td>4</td>\n",
       "      <td>0</td>\n",
       "      <td>14</td>\n",
       "    </tr>\n",
       "    <tr>\n",
       "      <th>2</th>\n",
       "      <td>FSLM</td>\n",
       "      <td>SLAS</td>\n",
       "      <td>C1</td>\n",
       "      <td>American Degree Transfer Program (Business)</td>\n",
       "      <td>202602</td>\n",
       "      <td>4</td>\n",
       "      <td>8</td>\n",
       "      <td>0</td>\n",
       "    </tr>\n",
       "    <tr>\n",
       "      <th>3</th>\n",
       "      <td>FSLM</td>\n",
       "      <td>SLAS</td>\n",
       "      <td>C2</td>\n",
       "      <td>American Degree Transfer Program (Business)</td>\n",
       "      <td>202606</td>\n",
       "      <td>2</td>\n",
       "      <td>8</td>\n",
       "      <td>0</td>\n",
       "    </tr>\n",
       "    <tr>\n",
       "      <th>4</th>\n",
       "      <td>FSLM</td>\n",
       "      <td>SLAS</td>\n",
       "      <td>C3</td>\n",
       "      <td>American Degree Transfer Program (Business)</td>\n",
       "      <td>202608</td>\n",
       "      <td>5</td>\n",
       "      <td>10</td>\n",
       "      <td>0</td>\n",
       "    </tr>\n",
       "    <tr>\n",
       "      <th>...</th>\n",
       "      <td>...</td>\n",
       "      <td>...</td>\n",
       "      <td>...</td>\n",
       "      <td>...</td>\n",
       "      <td>...</td>\n",
       "      <td>...</td>\n",
       "      <td>...</td>\n",
       "      <td>...</td>\n",
       "    </tr>\n",
       "    <tr>\n",
       "      <th>361</th>\n",
       "      <td>FBL</td>\n",
       "      <td>TBS</td>\n",
       "      <td>C1</td>\n",
       "      <td>Master of Management (ODL)</td>\n",
       "      <td>202602</td>\n",
       "      <td>5</td>\n",
       "      <td>0</td>\n",
       "      <td>0</td>\n",
       "    </tr>\n",
       "    <tr>\n",
       "      <th>362</th>\n",
       "      <td>FBL</td>\n",
       "      <td>TBS</td>\n",
       "      <td>C2</td>\n",
       "      <td>Master of Management (ODL)</td>\n",
       "      <td>202604</td>\n",
       "      <td>3</td>\n",
       "      <td>2</td>\n",
       "      <td>0</td>\n",
       "    </tr>\n",
       "    <tr>\n",
       "      <th>363</th>\n",
       "      <td>FBL</td>\n",
       "      <td>TBS</td>\n",
       "      <td>C2</td>\n",
       "      <td>Master of Management (ODL)</td>\n",
       "      <td>202606</td>\n",
       "      <td>3</td>\n",
       "      <td>2</td>\n",
       "      <td>0</td>\n",
       "    </tr>\n",
       "    <tr>\n",
       "      <th>364</th>\n",
       "      <td>FBL</td>\n",
       "      <td>TBS</td>\n",
       "      <td>C3</td>\n",
       "      <td>Master of Management (ODL)</td>\n",
       "      <td>202609</td>\n",
       "      <td>5</td>\n",
       "      <td>3</td>\n",
       "      <td>0</td>\n",
       "    </tr>\n",
       "    <tr>\n",
       "      <th>365</th>\n",
       "      <td>FBL</td>\n",
       "      <td>TBS</td>\n",
       "      <td>C3</td>\n",
       "      <td>Master of Management (ODL)</td>\n",
       "      <td>202611</td>\n",
       "      <td>4</td>\n",
       "      <td>3</td>\n",
       "      <td>0</td>\n",
       "    </tr>\n",
       "  </tbody>\n",
       "</table>\n",
       "<p>366 rows × 8 columns</p>\n",
       "</div>"
      ],
      "text/plain": [
       "    Faculty School Cycle                                 Programme Name_TM1  \\\n",
       "0      FSLM    TCI    C2  Advanced Diploma in Patisserie and Gastronomic...   \n",
       "1      FSLM    TCI    C3  Advanced Diploma in Patisserie and Gastronomic...   \n",
       "2      FSLM   SLAS    C1        American Degree Transfer Program (Business)   \n",
       "3      FSLM   SLAS    C2        American Degree Transfer Program (Business)   \n",
       "4      FSLM   SLAS    C3        American Degree Transfer Program (Business)   \n",
       "..      ...    ...   ...                                                ...   \n",
       "361     FBL    TBS    C1                         Master of Management (ODL)   \n",
       "362     FBL    TBS    C2                         Master of Management (ODL)   \n",
       "363     FBL    TBS    C2                         Master of Management (ODL)   \n",
       "364     FBL    TBS    C3                         Master of Management (ODL)   \n",
       "365     FBL    TBS    C3                         Master of Management (ODL)   \n",
       "\n",
       "     INTAKE  New - Local  New - International  New - Progression  \n",
       "0    202604            7                    0                  3  \n",
       "1    202608            4                    0                 14  \n",
       "2    202602            4                    8                  0  \n",
       "3    202606            2                    8                  0  \n",
       "4    202608            5                   10                  0  \n",
       "..      ...          ...                  ...                ...  \n",
       "361  202602            5                    0                  0  \n",
       "362  202604            3                    2                  0  \n",
       "363  202606            3                    2                  0  \n",
       "364  202609            5                    3                  0  \n",
       "365  202611            4                    3                  0  \n",
       "\n",
       "[366 rows x 8 columns]"
      ]
     },
     "execution_count": 3,
     "metadata": {},
     "output_type": "execute_result"
    }
   ],
   "source": [
    "tu_tm1"
   ]
  },
  {
   "cell_type": "code",
   "execution_count": 4,
   "id": "b590f561",
   "metadata": {},
   "outputs": [],
   "source": [
    "tu_tm1 =tu_tm1.drop(['Faculty','School'],axis=1)"
   ]
  },
  {
   "cell_type": "code",
   "execution_count": 5,
   "id": "b998baec",
   "metadata": {},
   "outputs": [],
   "source": [
    "#Add based on the current year | cycle\n",
    "tu_tm1[\"Year\"]='2026' "
   ]
  },
  {
   "cell_type": "code",
   "execution_count": 6,
   "id": "c6a2b58c",
   "metadata": {},
   "outputs": [],
   "source": [
    "tu_tm1=tu_tm1.rename(columns={'New - Local': 'Domestic', 'New - International': 'International', 'New - Progression': 'Progression'})"
   ]
  },
  {
   "cell_type": "code",
   "execution_count": 7,
   "id": "9a16492b",
   "metadata": {},
   "outputs": [],
   "source": [
    "tu_tm1_melted_df = pd.melt(\n",
    "    tu_tm1,\n",
    "    id_vars=['Cycle', 'Programme Name_TM1', 'INTAKE', 'Year'],  # columns to keep\n",
    "    value_vars=['Domestic', 'International', 'Progression'],    # columns to melt\n",
    "    var_name='Market Segment',                                  # new column name for variable\n",
    "    value_name='Student No'                                     # new column name for value\n",
    ")\n"
   ]
  },
  {
   "cell_type": "code",
   "execution_count": 8,
   "id": "5110e04a",
   "metadata": {},
   "outputs": [],
   "source": [
    "tu_tm1_melted_df = tu_tm1_melted_df.sort_values(by='Programme Name_TM1')"
   ]
  },
  {
   "cell_type": "code",
   "execution_count": 9,
   "id": "528c55ff",
   "metadata": {},
   "outputs": [],
   "source": [
    "tu_tm1 = tu_tm1_melted_df"
   ]
  },
  {
   "cell_type": "code",
   "execution_count": 10,
   "id": "69151506",
   "metadata": {},
   "outputs": [],
   "source": [
    "tc_tm1 = pd.read_excel(\"X:/QSDOCS/PRD/DATA/Target/Weekly/RawData/Y26B New Reg R3.2 20250925_marcomm.xlsx\",sheet_name=\"TC_TM1_3092\")"
   ]
  },
  {
   "cell_type": "code",
   "execution_count": 11,
   "id": "83e16ed6",
   "metadata": {},
   "outputs": [],
   "source": [
    "tc_tm1 =tc_tm1.drop(['Faculty','School'],axis=1)"
   ]
  },
  {
   "cell_type": "code",
   "execution_count": 12,
   "id": "343e8f19",
   "metadata": {},
   "outputs": [],
   "source": [
    "tc_tm1=tc_tm1.rename(columns={'New - Local': 'Domestic', 'New - International': 'International', 'New - Progression': 'Progression'})"
   ]
  },
  {
   "cell_type": "code",
   "execution_count": 13,
   "id": "ab3e572e",
   "metadata": {},
   "outputs": [],
   "source": [
    "#Add based on the current year | cycle\n",
    "tc_tm1['Year']='2026' "
   ]
  },
  {
   "cell_type": "code",
   "execution_count": 14,
   "id": "b5f15dec",
   "metadata": {},
   "outputs": [],
   "source": [
    "tc_tm1 = pd.melt(\n",
    "    tc_tm1,\n",
    "    id_vars=['Cycle', 'Programme Name_TM1', 'INTAKE', 'Year'],  # columns to keep\n",
    "    value_vars=['Domestic', 'International', 'Progression'],    # columns to melt\n",
    "    var_name='Market Segment',                                  # new column name for variable\n",
    "    value_name='Student No'                                     # new column name for value\n",
    ")"
   ]
  },
  {
   "cell_type": "code",
   "execution_count": 15,
   "id": "86fbd5a2",
   "metadata": {},
   "outputs": [],
   "source": [
    "# Combine the two DataFrames\n",
    "combined_tc_tu = pd.concat([tc_tm1, tu_tm1], ignore_index=True) "
   ]
  },
  {
   "cell_type": "code",
   "execution_count": 16,
   "id": "3152af9b",
   "metadata": {},
   "outputs": [
    {
     "data": {
      "text/plain": [
       "np.int64(10565)"
      ]
     },
     "execution_count": 16,
     "metadata": {},
     "output_type": "execute_result"
    }
   ],
   "source": [
    "#Calculate the total number of students to make sure it is tally with the original file\n",
    "total_students = combined_tc_tu['Student No'].sum()\n",
    "total_students"
   ]
  },
  {
   "cell_type": "markdown",
   "id": "a1c02d25",
   "metadata": {},
   "source": [
    "### Program Master File to map with TU TC budget target"
   ]
  },
  {
   "cell_type": "code",
   "execution_count": 17,
   "id": "d746f1a0",
   "metadata": {},
   "outputs": [],
   "source": [
    "PMF = pd.read_excel(\"X:/QSDOCS/PRD/DATA/Mapping/New_Program_Master.xlsx\",sheet_name=\"PMF\")"
   ]
  },
  {
   "cell_type": "code",
   "execution_count": 18,
   "id": "08b49b32",
   "metadata": {},
   "outputs": [],
   "source": [
    "#PMF_1 = PMF[PMF['Excluded'] != 1]\n",
    "PMF = PMF[PMF['Excluded'] != 1] "
   ]
  },
  {
   "cell_type": "code",
   "execution_count": 19,
   "id": "22ee4992",
   "metadata": {},
   "outputs": [],
   "source": [
    "PMF = PMF[['Init_Year',\"Programme Code\",\"Programme Name TM1\"]]"
   ]
  },
  {
   "cell_type": "code",
   "execution_count": 20,
   "id": "565784d4",
   "metadata": {},
   "outputs": [],
   "source": [
    "# Sort the DataFrame by 'Programme Code' and 'Init_Year' in descending order - this is for checking purpose\n",
    "df_sorted = PMF.sort_values(by=['Programme Name TM1', 'Init_Year'], ascending=[True, False])"
   ]
  },
  {
   "cell_type": "code",
   "execution_count": 21,
   "id": "a2ff57a2",
   "metadata": {},
   "outputs": [],
   "source": [
    "# Remove duplicates based on 'Programme Code', keeping the first occurrence (which is the latest year due to sorting)\n",
    "df_unique = df_sorted.drop_duplicates(subset='Programme Name TM1', keep='first')"
   ]
  },
  {
   "cell_type": "code",
   "execution_count": 22,
   "id": "18aa6171",
   "metadata": {},
   "outputs": [],
   "source": [
    "PMF=df_unique"
   ]
  },
  {
   "cell_type": "code",
   "execution_count": 23,
   "id": "4b5c0af1",
   "metadata": {},
   "outputs": [
    {
     "data": {
      "text/html": [
       "<div>\n",
       "<style scoped>\n",
       "    .dataframe tbody tr th:only-of-type {\n",
       "        vertical-align: middle;\n",
       "    }\n",
       "\n",
       "    .dataframe tbody tr th {\n",
       "        vertical-align: top;\n",
       "    }\n",
       "\n",
       "    .dataframe thead th {\n",
       "        text-align: right;\n",
       "    }\n",
       "</style>\n",
       "<table border=\"1\" class=\"dataframe\">\n",
       "  <thead>\n",
       "    <tr style=\"text-align: right;\">\n",
       "      <th></th>\n",
       "      <th>Init_Year</th>\n",
       "      <th>Programme Code</th>\n",
       "      <th>Programme Name TM1</th>\n",
       "    </tr>\n",
       "  </thead>\n",
       "  <tbody>\n",
       "    <tr>\n",
       "      <th>39</th>\n",
       "      <td>2020</td>\n",
       "      <td>85003</td>\n",
       "      <td>3+0 BACHELOR OF BUSINESS (MANAGEMENT), UNISA</td>\n",
       "    </tr>\n",
       "    <tr>\n",
       "      <th>41</th>\n",
       "      <td>2020</td>\n",
       "      <td>85002</td>\n",
       "      <td>3+0 BACHELOR OF COMMERCE (ACCOUNTING), UNISA</td>\n",
       "    </tr>\n",
       "    <tr>\n",
       "      <th>0</th>\n",
       "      <td>2020</td>\n",
       "      <td>44405</td>\n",
       "      <td>ACCA (IRC)</td>\n",
       "    </tr>\n",
       "    <tr>\n",
       "      <th>5</th>\n",
       "      <td>2020</td>\n",
       "      <td>30042</td>\n",
       "      <td>Advanced Diploma in Patisserie and Gastronomic...</td>\n",
       "    </tr>\n",
       "    <tr>\n",
       "      <th>6</th>\n",
       "      <td>2018</td>\n",
       "      <td>5003</td>\n",
       "      <td>American Degree Transfer Program</td>\n",
       "    </tr>\n",
       "    <tr>\n",
       "      <th>7</th>\n",
       "      <td>2020</td>\n",
       "      <td>5004</td>\n",
       "      <td>American Degree Transfer Program (Business)</td>\n",
       "    </tr>\n",
       "    <tr>\n",
       "      <th>8</th>\n",
       "      <td>2022</td>\n",
       "      <td>5006</td>\n",
       "      <td>American Degree Transfer Program (Computer Sci...</td>\n",
       "    </tr>\n",
       "    <tr>\n",
       "      <th>10</th>\n",
       "      <td>2020</td>\n",
       "      <td>5005</td>\n",
       "      <td>American Degree Transfer Program (Engineering)</td>\n",
       "    </tr>\n",
       "    <tr>\n",
       "      <th>11</th>\n",
       "      <td>2020</td>\n",
       "      <td>5007</td>\n",
       "      <td>American Degree Transfer Program (Liberal Arts)</td>\n",
       "    </tr>\n",
       "    <tr>\n",
       "      <th>263</th>\n",
       "      <td>2025</td>\n",
       "      <td>94609</td>\n",
       "      <td>BACHELOR OF APPLIED HEALTH SCIENCES (HONOURS)</td>\n",
       "    </tr>\n",
       "  </tbody>\n",
       "</table>\n",
       "</div>"
      ],
      "text/plain": [
       "     Init_Year  Programme Code  \\\n",
       "39        2020           85003   \n",
       "41        2020           85002   \n",
       "0         2020           44405   \n",
       "5         2020           30042   \n",
       "6         2018            5003   \n",
       "7         2020            5004   \n",
       "8         2022            5006   \n",
       "10        2020            5005   \n",
       "11        2020            5007   \n",
       "263       2025           94609   \n",
       "\n",
       "                                    Programme Name TM1  \n",
       "39        3+0 BACHELOR OF BUSINESS (MANAGEMENT), UNISA  \n",
       "41        3+0 BACHELOR OF COMMERCE (ACCOUNTING), UNISA  \n",
       "0                                           ACCA (IRC)  \n",
       "5    Advanced Diploma in Patisserie and Gastronomic...  \n",
       "6                     American Degree Transfer Program  \n",
       "7          American Degree Transfer Program (Business)  \n",
       "8    American Degree Transfer Program (Computer Sci...  \n",
       "10      American Degree Transfer Program (Engineering)  \n",
       "11     American Degree Transfer Program (Liberal Arts)  \n",
       "263      BACHELOR OF APPLIED HEALTH SCIENCES (HONOURS)  "
      ]
     },
     "execution_count": 23,
     "metadata": {},
     "output_type": "execute_result"
    }
   ],
   "source": [
    "PMF.head(10)"
   ]
  },
  {
   "cell_type": "code",
   "execution_count": 24,
   "id": "f70eea86",
   "metadata": {},
   "outputs": [
    {
     "name": "stderr",
     "output_type": "stream",
     "text": [
      "C:\\Users\\112363\\AppData\\Local\\Temp\\ipykernel_15804\\1175447385.py:1: SettingWithCopyWarning: \n",
      "A value is trying to be set on a copy of a slice from a DataFrame.\n",
      "Try using .loc[row_indexer,col_indexer] = value instead\n",
      "\n",
      "See the caveats in the documentation: https://pandas.pydata.org/pandas-docs/stable/user_guide/indexing.html#returning-a-view-versus-a-copy\n",
      "  PMF['Programme Name TM1'] = PMF['Programme Name TM1'].str.strip()\n"
     ]
    }
   ],
   "source": [
    "PMF['Programme Name TM1'] = PMF['Programme Name TM1'].str.strip()"
   ]
  },
  {
   "cell_type": "code",
   "execution_count": 25,
   "id": "d9ddf1b4",
   "metadata": {},
   "outputs": [],
   "source": [
    "#Standardize the columns to match with the target file\n",
    "combined_tc_tu=combined_tc_tu.rename(columns={\"Programme Name_TM1\": \"Programme Name TM1\"})"
   ]
  },
  {
   "cell_type": "code",
   "execution_count": 26,
   "id": "a2cc60f0",
   "metadata": {},
   "outputs": [],
   "source": [
    "combined_tc_tu[\"Programme Name TM1\"]=combined_tc_tu[\"Programme Name TM1\"].str.strip()"
   ]
  },
  {
   "cell_type": "code",
   "execution_count": 27,
   "id": "47d207af",
   "metadata": {},
   "outputs": [],
   "source": [
    "merged_df = pd.merge(combined_tc_tu, PMF,\n",
    "                     how='left',\n",
    "                     on=\"Programme Name TM1\")"
   ]
  },
  {
   "cell_type": "code",
   "execution_count": 28,
   "id": "884937dc",
   "metadata": {},
   "outputs": [],
   "source": [
    "#For checking purposes\n",
    "total_students = merged_df['Student No'].sum()"
   ]
  },
  {
   "cell_type": "code",
   "execution_count": 29,
   "id": "89a40ba8",
   "metadata": {},
   "outputs": [
    {
     "data": {
      "text/plain": [
       "np.int64(10565)"
      ]
     },
     "execution_count": 29,
     "metadata": {},
     "output_type": "execute_result"
    }
   ],
   "source": [
    "total_students"
   ]
  },
  {
   "cell_type": "code",
   "execution_count": 30,
   "id": "04f39c8d",
   "metadata": {},
   "outputs": [],
   "source": [
    "merged_df = merged_df.sort_values(by='INTAKE')"
   ]
  },
  {
   "cell_type": "markdown",
   "id": "f6ca778d",
   "metadata": {},
   "source": [
    "### Export to excel"
   ]
  },
  {
   "cell_type": "code",
   "execution_count": 31,
   "id": "e73d8a12",
   "metadata": {},
   "outputs": [],
   "source": [
    "merged_df.to_excel(\"C:/Users/112363/Downloads/target.xlsx\", index=False)"
   ]
  }
 ],
 "metadata": {
  "kernelspec": {
   "display_name": "dna_project",
   "language": "python",
   "name": "python3"
  },
  "language_info": {
   "codemirror_mode": {
    "name": "ipython",
    "version": 3
   },
   "file_extension": ".py",
   "mimetype": "text/x-python",
   "name": "python",
   "nbconvert_exporter": "python",
   "pygments_lexer": "ipython3",
   "version": "3.12.9"
  }
 },
 "nbformat": 4,
 "nbformat_minor": 5
}
