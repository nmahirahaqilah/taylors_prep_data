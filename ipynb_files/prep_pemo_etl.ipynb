{
 "cells": [
  {
   "cell_type": "code",
   "execution_count": null,
   "id": "535fa040",
   "metadata": {},
   "outputs": [],
   "source": [
    "import pandas as pd"
   ]
  },
  {
   "cell_type": "code",
   "execution_count": null,
   "id": "869bc336",
   "metadata": {
    "vscode": {
     "languageId": "markdown"
    }
   },
   "outputs": [],
   "source": [
    "### ETL Redmarch Enrollment database to database"
   ]
  },
  {
   "cell_type": "code",
   "execution_count": null,
   "id": "abb95ab4",
   "metadata": {},
   "outputs": [],
   "source": [
    "mohe_file = pd.read_excel(\"//10.99.64.144/Qlik/QSDOCS/PRD/DATA/PEMO_raw/Redmarch - IPTS Enrolment Database 2023 v17 CLIENT (RAW DATA).xlsm\")"
   ]
  },
  {
   "cell_type": "code",
   "execution_count": null,
   "id": "e0db6e86",
   "metadata": {},
   "outputs": [],
   "source": [
    "mohe_file"
   ]
  },
  {
   "cell_type": "code",
   "execution_count": null,
   "id": "f5eb7246",
   "metadata": {},
   "outputs": [],
   "source": [
    "mohe_file = mohe_file.dropna(subset=['IPTS', 'Group'])"
   ]
  },
  {
   "cell_type": "code",
   "execution_count": null,
   "id": "7271aa0e",
   "metadata": {},
   "outputs": [],
   "source": [
    "mohe_file"
   ]
  },
  {
   "cell_type": "code",
   "execution_count": null,
   "id": "44910c71",
   "metadata": {},
   "outputs": [],
   "source": [
    "from r2r_pipelines import export_db"
   ]
  },
  {
   "cell_type": "code",
   "execution_count": null,
   "id": "eaf34c5f",
   "metadata": {},
   "outputs": [],
   "source": [
    "engine = export_db.marcommdb_connection()\n",
    "mohe_file.to_sql('mohe_staging', engine, schema='staging', if_exists='replace', index=False)"
   ]
  },
  {
   "cell_type": "markdown",
   "id": "ed1ec26a",
   "metadata": {},
   "source": [
    "### Pricing Database"
   ]
  },
  {
   "cell_type": "code",
   "execution_count": null,
   "id": "7f4f8948",
   "metadata": {},
   "outputs": [],
   "source": [
    "import pandas as pd"
   ]
  },
  {
   "cell_type": "code",
   "execution_count": null,
   "id": "e357980c",
   "metadata": {},
   "outputs": [],
   "source": [
    "columns_to_keep = [\n",
    "    \"GCODE\",\n",
    "    \"ICODE\",\n",
    "    \"CCODE\",\n",
    "    \"UCODE\",\n",
    "    \"Group\",\n",
    "    \"Institution\",\n",
    "    \"Telephone\",\n",
    "    \"Location\",\n",
    "    \"State\",\n",
    "    \"Region 1\",\n",
    "    \"Region 2\",\n",
    "    \"Level 1\",\n",
    "    \"Level 2\",\n",
    "    \"Bundling\",\n",
    "    \"Vertical\",\n",
    "    \"Specialization\",\n",
    "    \"Course Name (Original)\",\n",
    "    \"Course Name (Reformatted)\",\n",
    "    \"Duration FT\",\n",
    "    \"Duration PT\",\n",
    "    \"Mode\",\n",
    "    \"Partner 1\",\n",
    "    \"Partner 2\",\n",
    "    \"Status\",\n",
    "    \"New Course\",\n",
    "    \"# Intakes\",\n",
    "    \"Jan\",\n",
    "    \"Feb\",\n",
    "    \"Mar\",\n",
    "    \"Apr\",\n",
    "    \"May\",\n",
    "    \"Jun\",\n",
    "    \"Jul\",\n",
    "    \"Aug\",\n",
    "    \"Sept\",\n",
    "    \"Oct\",\n",
    "    \"Nov\",\n",
    "    \"Dec\",\n",
    "    \"Total Fee\",\n",
    "    \"Tuition\",\n",
    "    \"Application\",\n",
    "    \"Admission\",\n",
    "    \"Registration\",\n",
    "    \"Processing\",\n",
    "    \"General\",\n",
    "    \"Admin\",\n",
    "    \"Service\",\n",
    "    \"Resource\",\n",
    "    \"ICT\",\n",
    "    \"Lab\",\n",
    "    \"Facilities\",\n",
    "    \"Library\",\n",
    "    \"Books\",\n",
    "    \"Student ID\",\n",
    "    \"Insurance\",\n",
    "    \"Club/Activities\",\n",
    "    \"MPU Admin Fee\",\n",
    "    \"Internal exam/assessment\",\n",
    "    \"Thesis/Dissertation\",\n",
    "    \"External exam\",\n",
    "    \"Final Year Project\",\n",
    "    \"Convocation & Graduation\",\n",
    "    \"Internship\",\n",
    "    \"External Partners Fee\",\n",
    "    \"Welfare\",\n",
    "    \"Clinical/Hospital Affilication\",\n",
    "    \"Uniform/Utensils/Material\",\n",
    "    \"Others\",\n",
    "    \"Library1\",\n",
    "    \"Registration1\",\n",
    "    \"Caution Fees\",\n",
    "    \"Compilation Fees\",\n",
    "    \"Security Deposit\",\n",
    "    \"Other refundable fees\",\n",
    "    \"Discount\",\n",
    "    \"Discount Description\",\n",
    "    \"Fees Source\",\n",
    "    \"Weblink/Brochure date\"\n",
    "]"
   ]
  },
  {
   "cell_type": "code",
   "execution_count": null,
   "id": "ec53c0ec",
   "metadata": {},
   "outputs": [],
   "source": [
    "# Read and process only 2017-2025 sheets\n",
    "file_path = \"C:/Users/112363/OneDrive - Taylor's Education Group/DWH_WIP/PEMO/Redmarch_IPTS Course Fee Database.xlsx\" \n",
    "all_dfs = []"
   ]
  },
  {
   "cell_type": "code",
   "execution_count": null,
   "id": "315e70cd",
   "metadata": {},
   "outputs": [],
   "source": [
    "import re"
   ]
  },
  {
   "cell_type": "code",
   "execution_count": null,
   "id": "dd817d31",
   "metadata": {},
   "outputs": [],
   "source": [
    "with pd.ExcelFile(file_path) as xls:\n",
    "    for sheet in xls.sheet_names:  # loops through all sheets\n",
    "        # Check if sheet name is a year between 2017-2025\n",
    "        if re.fullmatch(r'20(1[7-9]|2[0-5])', sheet):  # Matches 2017-2025\n",
    "            # Read the sheet\n",
    "            df = pd.read_excel(xls, sheet_name=sheet)\n",
    "            \n",
    "            # Add Year column\n",
    "            df['Year'] = sheet\n",
    "            \n",
    "            # Keep only the desired columns (plus the new Year column)\n",
    "            # First get the intersection of requested columns and actual columns\n",
    "            available_columns = [col for col in columns_to_keep if col in df.columns]\n",
    "            final_columns = available_columns + ['Year']\n",
    "            \n",
    "            # Filter the dataframe\n",
    "            df = df[final_columns]\n",
    "            \n",
    "            all_dfs.append(df)"
   ]
  },
  {
   "cell_type": "code",
   "execution_count": null,
   "id": "eca09486",
   "metadata": {},
   "outputs": [],
   "source": [
    "# Combine all matching sheets\n",
    "combined_df = pd.concat(all_dfs, ignore_index=True)"
   ]
  },
  {
   "cell_type": "code",
   "execution_count": null,
   "id": "565abc8c",
   "metadata": {},
   "outputs": [],
   "source": [
    "from r2r_pipelines import export_db"
   ]
  },
  {
   "cell_type": "code",
   "execution_count": null,
   "id": "2680d50a",
   "metadata": {},
   "outputs": [],
   "source": [
    "engine = export_db.marcommdb_connection()\n",
    "combined_df.to_sql('mohe_pricing_staging', engine, schema='staging', if_exists='replace', index=False)"
   ]
  },
  {
   "cell_type": "markdown",
   "id": "a7929a39",
   "metadata": {},
   "source": [
    "### Total Student Population TM1"
   ]
  },
  {
   "cell_type": "code",
   "execution_count": 1,
   "id": "7311dd19",
   "metadata": {},
   "outputs": [],
   "source": [
    "import pandas as pd\n",
    "import re\n",
    "tm1_tsp = \"C:/Users/112363/OneDrive - Taylor's Education Group/DWH_WIP/PEMO/TM1_Total_Student_Population.xlsx\""
   ]
  },
  {
   "cell_type": "code",
   "execution_count": 2,
   "id": "e563354f",
   "metadata": {},
   "outputs": [],
   "source": [
    "tsp = \"Total_Student_Population\""
   ]
  },
  {
   "cell_type": "code",
   "execution_count": 3,
   "id": "5cb0e9db",
   "metadata": {},
   "outputs": [],
   "source": [
    "tsp_df = pd.read_excel(tm1_tsp, sheet_name=tsp,header=None)"
   ]
  },
  {
   "cell_type": "code",
   "execution_count": 4,
   "id": "2701a13f",
   "metadata": {},
   "outputs": [],
   "source": [
    "tsp_df.at[0, 0] = \"university\"\n",
    "tsp_df.at[1, 0] = \"type\"\n",
    "tsp_df.at[2, 0] = \"code\"\n",
    "tsp_df.at[3, 0] = \"month_year\""
   ]
  },
  {
   "cell_type": "code",
   "execution_count": 5,
   "id": "767fa69b",
   "metadata": {},
   "outputs": [
    {
     "data": {
      "text/html": [
       "<div>\n",
       "<style scoped>\n",
       "    .dataframe tbody tr th:only-of-type {\n",
       "        vertical-align: middle;\n",
       "    }\n",
       "\n",
       "    .dataframe tbody tr th {\n",
       "        vertical-align: top;\n",
       "    }\n",
       "\n",
       "    .dataframe thead th {\n",
       "        text-align: right;\n",
       "    }\n",
       "</style>\n",
       "<table border=\"1\" class=\"dataframe\">\n",
       "  <thead>\n",
       "    <tr style=\"text-align: right;\">\n",
       "      <th></th>\n",
       "      <th>0</th>\n",
       "      <th>1</th>\n",
       "      <th>2</th>\n",
       "      <th>3</th>\n",
       "      <th>4</th>\n",
       "      <th>5</th>\n",
       "      <th>6</th>\n",
       "      <th>7</th>\n",
       "      <th>8</th>\n",
       "      <th>9</th>\n",
       "      <th>...</th>\n",
       "      <th>1444</th>\n",
       "      <th>1445</th>\n",
       "      <th>1446</th>\n",
       "      <th>1447</th>\n",
       "      <th>1448</th>\n",
       "      <th>1449</th>\n",
       "      <th>1450</th>\n",
       "      <th>1451</th>\n",
       "      <th>1452</th>\n",
       "      <th>1453</th>\n",
       "    </tr>\n",
       "  </thead>\n",
       "  <tbody>\n",
       "    <tr>\n",
       "      <th>0</th>\n",
       "      <td>university</td>\n",
       "      <td>TUSB</td>\n",
       "      <td>TUSB</td>\n",
       "      <td>TUSB</td>\n",
       "      <td>TUSB</td>\n",
       "      <td>TUSB</td>\n",
       "      <td>TUSB</td>\n",
       "      <td>TUSB</td>\n",
       "      <td>TUSB</td>\n",
       "      <td>TUSB</td>\n",
       "      <td>...</td>\n",
       "      <td>TMSB</td>\n",
       "      <td>TMSB</td>\n",
       "      <td>TMSB</td>\n",
       "      <td>TMSB</td>\n",
       "      <td>TMSB</td>\n",
       "      <td>TMSB</td>\n",
       "      <td>TMSB</td>\n",
       "      <td>TMSB</td>\n",
       "      <td>TMSB</td>\n",
       "      <td>TMSB</td>\n",
       "    </tr>\n",
       "    <tr>\n",
       "      <th>1</th>\n",
       "      <td>type</td>\n",
       "      <td>Actual</td>\n",
       "      <td>Actual</td>\n",
       "      <td>Actual</td>\n",
       "      <td>Actual</td>\n",
       "      <td>Actual</td>\n",
       "      <td>Actual</td>\n",
       "      <td>Actual</td>\n",
       "      <td>Actual</td>\n",
       "      <td>Actual</td>\n",
       "      <td>...</td>\n",
       "      <td>Actual</td>\n",
       "      <td>Actual</td>\n",
       "      <td>Actual</td>\n",
       "      <td>Actual</td>\n",
       "      <td>Actual</td>\n",
       "      <td>Actual</td>\n",
       "      <td>Actual</td>\n",
       "      <td>Actual</td>\n",
       "      <td>Actual</td>\n",
       "      <td>Actual</td>\n",
       "    </tr>\n",
       "    <tr>\n",
       "      <th>2</th>\n",
       "      <td>code</td>\n",
       "      <td>ACC_S31100 - TOTAL STUDENT POPULATION (@ ME)</td>\n",
       "      <td>ACC_S31100 - TOTAL STUDENT POPULATION (@ ME)</td>\n",
       "      <td>ACC_S31100 - TOTAL STUDENT POPULATION (@ ME)</td>\n",
       "      <td>ACC_S31100 - TOTAL STUDENT POPULATION (@ ME)</td>\n",
       "      <td>ACC_S31100 - TOTAL STUDENT POPULATION (@ ME)</td>\n",
       "      <td>ACC_S31100 - TOTAL STUDENT POPULATION (@ ME)</td>\n",
       "      <td>ACC_S31100 - TOTAL STUDENT POPULATION (@ ME)</td>\n",
       "      <td>ACC_S31100 - TOTAL STUDENT POPULATION (@ ME)</td>\n",
       "      <td>ACC_S31100 - TOTAL STUDENT POPULATION (@ ME)</td>\n",
       "      <td>...</td>\n",
       "      <td>S10040 - RETURNING STUDENT - OTHERS (@ ME)</td>\n",
       "      <td>S10040 - RETURNING STUDENT - OTHERS (@ ME)</td>\n",
       "      <td>S10040 - RETURNING STUDENT - OTHERS (@ ME)</td>\n",
       "      <td>S10040 - RETURNING STUDENT - OTHERS (@ ME)</td>\n",
       "      <td>S10040 - RETURNING STUDENT - OTHERS (@ ME)</td>\n",
       "      <td>S10040 - RETURNING STUDENT - OTHERS (@ ME)</td>\n",
       "      <td>S10040 - RETURNING STUDENT - OTHERS (@ ME)</td>\n",
       "      <td>S10040 - RETURNING STUDENT - OTHERS (@ ME)</td>\n",
       "      <td>S10040 - RETURNING STUDENT - OTHERS (@ ME)</td>\n",
       "      <td>S10040 - RETURNING STUDENT - OTHERS (@ ME)</td>\n",
       "    </tr>\n",
       "    <tr>\n",
       "      <th>3</th>\n",
       "      <td>month_year</td>\n",
       "      <td>Jan-17</td>\n",
       "      <td>Feb-17</td>\n",
       "      <td>Mar-17</td>\n",
       "      <td>Apr-17</td>\n",
       "      <td>May-17</td>\n",
       "      <td>Jun-17</td>\n",
       "      <td>Jul-17</td>\n",
       "      <td>Aug-17</td>\n",
       "      <td>Sep-17</td>\n",
       "      <td>...</td>\n",
       "      <td>Jan-20</td>\n",
       "      <td>Feb-20</td>\n",
       "      <td>Mar-20</td>\n",
       "      <td>Apr-20</td>\n",
       "      <td>May-20</td>\n",
       "      <td>Jun-20</td>\n",
       "      <td>Jul-20</td>\n",
       "      <td>Aug-20</td>\n",
       "      <td>Sep-20</td>\n",
       "      <td>FY 2020</td>\n",
       "    </tr>\n",
       "    <tr>\n",
       "      <th>4</th>\n",
       "      <td>All Programs and Products</td>\n",
       "      <td>5696</td>\n",
       "      <td>5591</td>\n",
       "      <td>10989</td>\n",
       "      <td>10259</td>\n",
       "      <td>9940</td>\n",
       "      <td>9727</td>\n",
       "      <td>9850</td>\n",
       "      <td>10739</td>\n",
       "      <td>10686</td>\n",
       "      <td>...</td>\n",
       "      <td>1762</td>\n",
       "      <td>1707</td>\n",
       "      <td>846</td>\n",
       "      <td>1298</td>\n",
       "      <td>1201</td>\n",
       "      <td>1210</td>\n",
       "      <td>681</td>\n",
       "      <td>418</td>\n",
       "      <td>369</td>\n",
       "      <td>9492</td>\n",
       "    </tr>\n",
       "    <tr>\n",
       "      <th>5</th>\n",
       "      <td>ACCA QUALIFICATION (MODULAR)</td>\n",
       "      <td>0</td>\n",
       "      <td>0</td>\n",
       "      <td>0</td>\n",
       "      <td>0</td>\n",
       "      <td>0</td>\n",
       "      <td>0</td>\n",
       "      <td>0</td>\n",
       "      <td>0</td>\n",
       "      <td>0</td>\n",
       "      <td>...</td>\n",
       "      <td>0</td>\n",
       "      <td>0</td>\n",
       "      <td>0</td>\n",
       "      <td>0</td>\n",
       "      <td>0</td>\n",
       "      <td>0</td>\n",
       "      <td>0</td>\n",
       "      <td>0</td>\n",
       "      <td>0</td>\n",
       "      <td>0</td>\n",
       "    </tr>\n",
       "  </tbody>\n",
       "</table>\n",
       "<p>6 rows × 1454 columns</p>\n",
       "</div>"
      ],
      "text/plain": [
       "                           0                                             1     \\\n",
       "0                    university                                          TUSB   \n",
       "1                          type                                        Actual   \n",
       "2                          code  ACC_S31100 - TOTAL STUDENT POPULATION (@ ME)   \n",
       "3                    month_year                                        Jan-17   \n",
       "4     All Programs and Products                                          5696   \n",
       "5  ACCA QUALIFICATION (MODULAR)                                             0   \n",
       "\n",
       "                                           2     \\\n",
       "0                                          TUSB   \n",
       "1                                        Actual   \n",
       "2  ACC_S31100 - TOTAL STUDENT POPULATION (@ ME)   \n",
       "3                                        Feb-17   \n",
       "4                                          5591   \n",
       "5                                             0   \n",
       "\n",
       "                                           3     \\\n",
       "0                                          TUSB   \n",
       "1                                        Actual   \n",
       "2  ACC_S31100 - TOTAL STUDENT POPULATION (@ ME)   \n",
       "3                                        Mar-17   \n",
       "4                                         10989   \n",
       "5                                             0   \n",
       "\n",
       "                                           4     \\\n",
       "0                                          TUSB   \n",
       "1                                        Actual   \n",
       "2  ACC_S31100 - TOTAL STUDENT POPULATION (@ ME)   \n",
       "3                                        Apr-17   \n",
       "4                                         10259   \n",
       "5                                             0   \n",
       "\n",
       "                                           5     \\\n",
       "0                                          TUSB   \n",
       "1                                        Actual   \n",
       "2  ACC_S31100 - TOTAL STUDENT POPULATION (@ ME)   \n",
       "3                                        May-17   \n",
       "4                                          9940   \n",
       "5                                             0   \n",
       "\n",
       "                                           6     \\\n",
       "0                                          TUSB   \n",
       "1                                        Actual   \n",
       "2  ACC_S31100 - TOTAL STUDENT POPULATION (@ ME)   \n",
       "3                                        Jun-17   \n",
       "4                                          9727   \n",
       "5                                             0   \n",
       "\n",
       "                                           7     \\\n",
       "0                                          TUSB   \n",
       "1                                        Actual   \n",
       "2  ACC_S31100 - TOTAL STUDENT POPULATION (@ ME)   \n",
       "3                                        Jul-17   \n",
       "4                                          9850   \n",
       "5                                             0   \n",
       "\n",
       "                                           8     \\\n",
       "0                                          TUSB   \n",
       "1                                        Actual   \n",
       "2  ACC_S31100 - TOTAL STUDENT POPULATION (@ ME)   \n",
       "3                                        Aug-17   \n",
       "4                                         10739   \n",
       "5                                             0   \n",
       "\n",
       "                                           9     ...  \\\n",
       "0                                          TUSB  ...   \n",
       "1                                        Actual  ...   \n",
       "2  ACC_S31100 - TOTAL STUDENT POPULATION (@ ME)  ...   \n",
       "3                                        Sep-17  ...   \n",
       "4                                         10686  ...   \n",
       "5                                             0  ...   \n",
       "\n",
       "                                         1444  \\\n",
       "0                                        TMSB   \n",
       "1                                      Actual   \n",
       "2  S10040 - RETURNING STUDENT - OTHERS (@ ME)   \n",
       "3                                      Jan-20   \n",
       "4                                        1762   \n",
       "5                                           0   \n",
       "\n",
       "                                         1445  \\\n",
       "0                                        TMSB   \n",
       "1                                      Actual   \n",
       "2  S10040 - RETURNING STUDENT - OTHERS (@ ME)   \n",
       "3                                      Feb-20   \n",
       "4                                        1707   \n",
       "5                                           0   \n",
       "\n",
       "                                         1446  \\\n",
       "0                                        TMSB   \n",
       "1                                      Actual   \n",
       "2  S10040 - RETURNING STUDENT - OTHERS (@ ME)   \n",
       "3                                      Mar-20   \n",
       "4                                         846   \n",
       "5                                           0   \n",
       "\n",
       "                                         1447  \\\n",
       "0                                        TMSB   \n",
       "1                                      Actual   \n",
       "2  S10040 - RETURNING STUDENT - OTHERS (@ ME)   \n",
       "3                                      Apr-20   \n",
       "4                                        1298   \n",
       "5                                           0   \n",
       "\n",
       "                                         1448  \\\n",
       "0                                        TMSB   \n",
       "1                                      Actual   \n",
       "2  S10040 - RETURNING STUDENT - OTHERS (@ ME)   \n",
       "3                                      May-20   \n",
       "4                                        1201   \n",
       "5                                           0   \n",
       "\n",
       "                                         1449  \\\n",
       "0                                        TMSB   \n",
       "1                                      Actual   \n",
       "2  S10040 - RETURNING STUDENT - OTHERS (@ ME)   \n",
       "3                                      Jun-20   \n",
       "4                                        1210   \n",
       "5                                           0   \n",
       "\n",
       "                                         1450  \\\n",
       "0                                        TMSB   \n",
       "1                                      Actual   \n",
       "2  S10040 - RETURNING STUDENT - OTHERS (@ ME)   \n",
       "3                                      Jul-20   \n",
       "4                                         681   \n",
       "5                                           0   \n",
       "\n",
       "                                         1451  \\\n",
       "0                                        TMSB   \n",
       "1                                      Actual   \n",
       "2  S10040 - RETURNING STUDENT - OTHERS (@ ME)   \n",
       "3                                      Aug-20   \n",
       "4                                         418   \n",
       "5                                           0   \n",
       "\n",
       "                                         1452  \\\n",
       "0                                        TMSB   \n",
       "1                                      Actual   \n",
       "2  S10040 - RETURNING STUDENT - OTHERS (@ ME)   \n",
       "3                                      Sep-20   \n",
       "4                                         369   \n",
       "5                                           0   \n",
       "\n",
       "                                         1453  \n",
       "0                                        TMSB  \n",
       "1                                      Actual  \n",
       "2  S10040 - RETURNING STUDENT - OTHERS (@ ME)  \n",
       "3                                     FY 2020  \n",
       "4                                        9492  \n",
       "5                                           0  \n",
       "\n",
       "[6 rows x 1454 columns]"
      ]
     },
     "execution_count": 5,
     "metadata": {},
     "output_type": "execute_result"
    }
   ],
   "source": [
    "tsp_df.head(6)"
   ]
  },
  {
   "cell_type": "code",
   "execution_count": 6,
   "id": "0692a852",
   "metadata": {},
   "outputs": [],
   "source": [
    "# --- Step 1: Split the DataFrame ---\n",
    "rows_to_melt = tsp_df.iloc[0:4]  # Rows 0-3 (university, type, code, month_year)\n",
    "rows_to_keep = tsp_df.iloc[5:]   # Rows 5+ (ACCA QUALIFICATION, etc.)"
   ]
  },
  {
   "cell_type": "code",
   "execution_count": 9,
   "id": "f85c9fb3",
   "metadata": {},
   "outputs": [],
   "source": [
    "headers_df = tsp_df.iloc[0:4].copy()\n",
    "data_df = tsp_df.iloc[4:].copy()"
   ]
  },
  {
   "cell_type": "code",
   "execution_count": 10,
   "id": "79ed7754",
   "metadata": {},
   "outputs": [],
   "source": [
    "headers_lookup = headers_df.T\n",
    "headers_lookup.columns = headers_lookup.iloc[0]\n",
    "headers_lookup = headers_lookup[1:].reset_index()\n",
    "headers_lookup.rename(columns={'index': 'original_col_id'}, inplace=True)"
   ]
  },
  {
   "cell_type": "code",
   "execution_count": 11,
   "id": "1029617e",
   "metadata": {},
   "outputs": [],
   "source": [
    "data_df.rename(columns={0: 'Program'}, inplace=True)"
   ]
  },
  {
   "cell_type": "code",
   "execution_count": 12,
   "id": "f093d21a",
   "metadata": {},
   "outputs": [],
   "source": [
    "id_vars = ['Program']\n",
    "value_vars = [col for col in data_df.columns if col not in id_vars]"
   ]
  },
  {
   "cell_type": "code",
   "execution_count": 13,
   "id": "5407bf8d",
   "metadata": {},
   "outputs": [],
   "source": [
    "melted_df = pd.melt(data_df, id_vars=id_vars, value_vars=value_vars,\n",
    "                        var_name='original_col_id', value_name='Population')"
   ]
  },
  {
   "cell_type": "code",
   "execution_count": 14,
   "id": "180c122e",
   "metadata": {},
   "outputs": [],
   "source": [
    "final_df = pd.merge(melted_df, headers_lookup, on='original_col_id', how='left')"
   ]
  },
  {
   "cell_type": "code",
   "execution_count": 15,
   "id": "8a9e88fd",
   "metadata": {},
   "outputs": [],
   "source": [
    "filtered_df = final_df[final_df['Program'] != 'All Programs and Products'].copy()\n"
   ]
  },
  {
   "cell_type": "code",
   "execution_count": 16,
   "id": "e0d356bb",
   "metadata": {},
   "outputs": [
    {
     "data": {
      "text/html": [
       "<div>\n",
       "<style scoped>\n",
       "    .dataframe tbody tr th:only-of-type {\n",
       "        vertical-align: middle;\n",
       "    }\n",
       "\n",
       "    .dataframe tbody tr th {\n",
       "        vertical-align: top;\n",
       "    }\n",
       "\n",
       "    .dataframe thead th {\n",
       "        text-align: right;\n",
       "    }\n",
       "</style>\n",
       "<table border=\"1\" class=\"dataframe\">\n",
       "  <thead>\n",
       "    <tr style=\"text-align: right;\">\n",
       "      <th></th>\n",
       "      <th>Program</th>\n",
       "      <th>original_col_id</th>\n",
       "      <th>Population</th>\n",
       "      <th>university</th>\n",
       "      <th>type</th>\n",
       "      <th>code</th>\n",
       "      <th>month_year</th>\n",
       "    </tr>\n",
       "  </thead>\n",
       "  <tbody>\n",
       "    <tr>\n",
       "      <th>1</th>\n",
       "      <td>ACCA QUALIFICATION (MODULAR)</td>\n",
       "      <td>1</td>\n",
       "      <td>0</td>\n",
       "      <td>TUSB</td>\n",
       "      <td>Actual</td>\n",
       "      <td>ACC_S31100 - TOTAL STUDENT POPULATION (@ ME)</td>\n",
       "      <td>Jan-17</td>\n",
       "    </tr>\n",
       "    <tr>\n",
       "      <th>2</th>\n",
       "      <td>ACCA</td>\n",
       "      <td>1</td>\n",
       "      <td>0</td>\n",
       "      <td>TUSB</td>\n",
       "      <td>Actual</td>\n",
       "      <td>ACC_S31100 - TOTAL STUDENT POPULATION (@ ME)</td>\n",
       "      <td>Jan-17</td>\n",
       "    </tr>\n",
       "    <tr>\n",
       "      <th>3</th>\n",
       "      <td>ACCA QUALIFICATION (ACCELERATE)</td>\n",
       "      <td>1</td>\n",
       "      <td>0</td>\n",
       "      <td>TUSB</td>\n",
       "      <td>Actual</td>\n",
       "      <td>ACC_S31100 - TOTAL STUDENT POPULATION (@ ME)</td>\n",
       "      <td>Jan-17</td>\n",
       "    </tr>\n",
       "    <tr>\n",
       "      <th>4</th>\n",
       "      <td>AMERICAN DEGREE TRANSFER PROGRAM (BUSINESS)</td>\n",
       "      <td>1</td>\n",
       "      <td>0</td>\n",
       "      <td>TUSB</td>\n",
       "      <td>Actual</td>\n",
       "      <td>ACC_S31100 - TOTAL STUDENT POPULATION (@ ME)</td>\n",
       "      <td>Jan-17</td>\n",
       "    </tr>\n",
       "    <tr>\n",
       "      <th>5</th>\n",
       "      <td>AMERICAN DEGREE TRANSFER PROGRAM (COMPUTER SCI...</td>\n",
       "      <td>1</td>\n",
       "      <td>0</td>\n",
       "      <td>TUSB</td>\n",
       "      <td>Actual</td>\n",
       "      <td>ACC_S31100 - TOTAL STUDENT POPULATION (@ ME)</td>\n",
       "      <td>Jan-17</td>\n",
       "    </tr>\n",
       "  </tbody>\n",
       "</table>\n",
       "</div>"
      ],
      "text/plain": [
       "                                             Program original_col_id  \\\n",
       "1                       ACCA QUALIFICATION (MODULAR)               1   \n",
       "2                                               ACCA               1   \n",
       "3                    ACCA QUALIFICATION (ACCELERATE)               1   \n",
       "4        AMERICAN DEGREE TRANSFER PROGRAM (BUSINESS)               1   \n",
       "5  AMERICAN DEGREE TRANSFER PROGRAM (COMPUTER SCI...               1   \n",
       "\n",
       "  Population university    type                                          code  \\\n",
       "1          0       TUSB  Actual  ACC_S31100 - TOTAL STUDENT POPULATION (@ ME)   \n",
       "2          0       TUSB  Actual  ACC_S31100 - TOTAL STUDENT POPULATION (@ ME)   \n",
       "3          0       TUSB  Actual  ACC_S31100 - TOTAL STUDENT POPULATION (@ ME)   \n",
       "4          0       TUSB  Actual  ACC_S31100 - TOTAL STUDENT POPULATION (@ ME)   \n",
       "5          0       TUSB  Actual  ACC_S31100 - TOTAL STUDENT POPULATION (@ ME)   \n",
       "\n",
       "  month_year  \n",
       "1     Jan-17  \n",
       "2     Jan-17  \n",
       "3     Jan-17  \n",
       "4     Jan-17  \n",
       "5     Jan-17  "
      ]
     },
     "execution_count": 16,
     "metadata": {},
     "output_type": "execute_result"
    }
   ],
   "source": [
    "filtered_df \n",
    "tsp_df_final = filtered_df.copy()\n",
    "tsp_df_final.head(5)"
   ]
  },
  {
   "cell_type": "code",
   "execution_count": null,
   "id": "7d39998b",
   "metadata": {},
   "outputs": [],
   "source": [
    "tsp_df_final.drop('original_col_id', axis=1, inplace=True)"
   ]
  },
  {
   "cell_type": "code",
   "execution_count": 19,
   "id": "4ae92440",
   "metadata": {},
   "outputs": [],
   "source": [
    "tsp_df_final = tsp_df_final.rename(columns={'Population': 'total_population'})"
   ]
  },
  {
   "cell_type": "code",
   "execution_count": 22,
   "id": "bbbde3c3",
   "metadata": {},
   "outputs": [],
   "source": [
    "tsp_df_final = tsp_df_final.rename(columns={'Program': 'program'})"
   ]
  },
  {
   "cell_type": "code",
   "execution_count": 20,
   "id": "66599b5d",
   "metadata": {},
   "outputs": [],
   "source": [
    "tsp_df_final['label']='Total Student Population'"
   ]
  },
  {
   "cell_type": "code",
   "execution_count": 23,
   "id": "9e9941f0",
   "metadata": {},
   "outputs": [
    {
     "data": {
      "text/html": [
       "<div>\n",
       "<style scoped>\n",
       "    .dataframe tbody tr th:only-of-type {\n",
       "        vertical-align: middle;\n",
       "    }\n",
       "\n",
       "    .dataframe tbody tr th {\n",
       "        vertical-align: top;\n",
       "    }\n",
       "\n",
       "    .dataframe thead th {\n",
       "        text-align: right;\n",
       "    }\n",
       "</style>\n",
       "<table border=\"1\" class=\"dataframe\">\n",
       "  <thead>\n",
       "    <tr style=\"text-align: right;\">\n",
       "      <th></th>\n",
       "      <th>program</th>\n",
       "      <th>total_population</th>\n",
       "      <th>university</th>\n",
       "      <th>type</th>\n",
       "      <th>code</th>\n",
       "      <th>month_year</th>\n",
       "      <th>label</th>\n",
       "    </tr>\n",
       "  </thead>\n",
       "  <tbody>\n",
       "    <tr>\n",
       "      <th>1</th>\n",
       "      <td>ACCA QUALIFICATION (MODULAR)</td>\n",
       "      <td>0</td>\n",
       "      <td>TUSB</td>\n",
       "      <td>Actual</td>\n",
       "      <td>ACC_S31100 - TOTAL STUDENT POPULATION (@ ME)</td>\n",
       "      <td>Jan-17</td>\n",
       "      <td>Total Student Population</td>\n",
       "    </tr>\n",
       "    <tr>\n",
       "      <th>2</th>\n",
       "      <td>ACCA</td>\n",
       "      <td>0</td>\n",
       "      <td>TUSB</td>\n",
       "      <td>Actual</td>\n",
       "      <td>ACC_S31100 - TOTAL STUDENT POPULATION (@ ME)</td>\n",
       "      <td>Jan-17</td>\n",
       "      <td>Total Student Population</td>\n",
       "    </tr>\n",
       "    <tr>\n",
       "      <th>3</th>\n",
       "      <td>ACCA QUALIFICATION (ACCELERATE)</td>\n",
       "      <td>0</td>\n",
       "      <td>TUSB</td>\n",
       "      <td>Actual</td>\n",
       "      <td>ACC_S31100 - TOTAL STUDENT POPULATION (@ ME)</td>\n",
       "      <td>Jan-17</td>\n",
       "      <td>Total Student Population</td>\n",
       "    </tr>\n",
       "    <tr>\n",
       "      <th>4</th>\n",
       "      <td>AMERICAN DEGREE TRANSFER PROGRAM (BUSINESS)</td>\n",
       "      <td>0</td>\n",
       "      <td>TUSB</td>\n",
       "      <td>Actual</td>\n",
       "      <td>ACC_S31100 - TOTAL STUDENT POPULATION (@ ME)</td>\n",
       "      <td>Jan-17</td>\n",
       "      <td>Total Student Population</td>\n",
       "    </tr>\n",
       "    <tr>\n",
       "      <th>5</th>\n",
       "      <td>AMERICAN DEGREE TRANSFER PROGRAM (COMPUTER SCI...</td>\n",
       "      <td>0</td>\n",
       "      <td>TUSB</td>\n",
       "      <td>Actual</td>\n",
       "      <td>ACC_S31100 - TOTAL STUDENT POPULATION (@ ME)</td>\n",
       "      <td>Jan-17</td>\n",
       "      <td>Total Student Population</td>\n",
       "    </tr>\n",
       "  </tbody>\n",
       "</table>\n",
       "</div>"
      ],
      "text/plain": [
       "                                             program total_population  \\\n",
       "1                       ACCA QUALIFICATION (MODULAR)                0   \n",
       "2                                               ACCA                0   \n",
       "3                    ACCA QUALIFICATION (ACCELERATE)                0   \n",
       "4        AMERICAN DEGREE TRANSFER PROGRAM (BUSINESS)                0   \n",
       "5  AMERICAN DEGREE TRANSFER PROGRAM (COMPUTER SCI...                0   \n",
       "\n",
       "  university    type                                          code month_year  \\\n",
       "1       TUSB  Actual  ACC_S31100 - TOTAL STUDENT POPULATION (@ ME)     Jan-17   \n",
       "2       TUSB  Actual  ACC_S31100 - TOTAL STUDENT POPULATION (@ ME)     Jan-17   \n",
       "3       TUSB  Actual  ACC_S31100 - TOTAL STUDENT POPULATION (@ ME)     Jan-17   \n",
       "4       TUSB  Actual  ACC_S31100 - TOTAL STUDENT POPULATION (@ ME)     Jan-17   \n",
       "5       TUSB  Actual  ACC_S31100 - TOTAL STUDENT POPULATION (@ ME)     Jan-17   \n",
       "\n",
       "                      label  \n",
       "1  Total Student Population  \n",
       "2  Total Student Population  \n",
       "3  Total Student Population  \n",
       "4  Total Student Population  \n",
       "5  Total Student Population  "
      ]
     },
     "execution_count": 23,
     "metadata": {},
     "output_type": "execute_result"
    }
   ],
   "source": [
    "tsp_df_final.head(5)"
   ]
  },
  {
   "cell_type": "code",
   "execution_count": 24,
   "id": "c56bd304",
   "metadata": {},
   "outputs": [
    {
     "data": {
      "text/plain": [
       "608"
      ]
     },
     "execution_count": 24,
     "metadata": {},
     "output_type": "execute_result"
    }
   ],
   "source": [
    "from r2r_pipelines import export_db\n",
    "engine = export_db.marcommdb_connection()\n",
    "tsp_df_final.to_sql('tm1_student_population', engine, schema='staging', if_exists='replace', index=False)"
   ]
  },
  {
   "cell_type": "markdown",
   "id": "d72a595c",
   "metadata": {},
   "source": [
    "### EFTS"
   ]
  },
  {
   "cell_type": "code",
   "execution_count": 25,
   "id": "b1966edc",
   "metadata": {},
   "outputs": [],
   "source": [
    "import pandas as pd\n",
    "import re\n",
    "tm1_efts = \"C:/Users/112363/OneDrive - Taylor's Education Group/DWH_WIP/PEMO/TM1_EFTS.xlsx\""
   ]
  },
  {
   "cell_type": "code",
   "execution_count": 26,
   "id": "7cd06b67",
   "metadata": {},
   "outputs": [],
   "source": [
    "efts = \"EFTS\""
   ]
  },
  {
   "cell_type": "code",
   "execution_count": 27,
   "id": "ad10a21f",
   "metadata": {},
   "outputs": [],
   "source": [
    "efts_df = pd.read_excel(tm1_efts, sheet_name=efts,header=None)"
   ]
  },
  {
   "cell_type": "code",
   "execution_count": 29,
   "id": "45be4f2d",
   "metadata": {},
   "outputs": [],
   "source": [
    "efts_df.at[0, 0] = \"university\"\n",
    "efts_df.at[1, 0] = \"type\"\n",
    "efts_df.at[2, 0] = \"code\"\n",
    "efts_df.at[3, 0] = \"month_year\""
   ]
  },
  {
   "cell_type": "code",
   "execution_count": 30,
   "id": "c4b51906",
   "metadata": {},
   "outputs": [],
   "source": [
    "# --- Step 1: Split the DataFrame ---\n",
    "rows_to_melt = efts_df.iloc[0:4]  # Rows 0-3 (university, type, code, month_year)\n",
    "rows_to_keep = efts_df.iloc[5:]   # Rows 5+ (ACCA QUALIFICATION, etc.)"
   ]
  },
  {
   "cell_type": "code",
   "execution_count": 31,
   "id": "a8693bf1",
   "metadata": {},
   "outputs": [],
   "source": [
    "headers_df = efts_df.iloc[0:4].copy()\n",
    "data_df = efts_df.iloc[4:].copy()"
   ]
  },
  {
   "cell_type": "code",
   "execution_count": 32,
   "id": "45ec042d",
   "metadata": {},
   "outputs": [],
   "source": [
    "headers_lookup = headers_df.T\n",
    "headers_lookup.columns = headers_lookup.iloc[0]\n",
    "headers_lookup = headers_lookup[1:].reset_index()\n",
    "headers_lookup.rename(columns={'index': 'original_col_id'}, inplace=True)"
   ]
  },
  {
   "cell_type": "code",
   "execution_count": 33,
   "id": "6a0d9bef",
   "metadata": {},
   "outputs": [],
   "source": [
    "data_df.rename(columns={0: 'Program'}, inplace=True)"
   ]
  },
  {
   "cell_type": "code",
   "execution_count": 36,
   "id": "ea0aab1a",
   "metadata": {},
   "outputs": [],
   "source": [
    "id_vars = ['Program']\n",
    "value_vars = [col for col in data_df.columns if col not in id_vars]"
   ]
  },
  {
   "cell_type": "code",
   "execution_count": 37,
   "id": "7a6e778b",
   "metadata": {},
   "outputs": [],
   "source": [
    "melted_df = pd.melt(data_df, id_vars=id_vars, value_vars=value_vars,\n",
    "                        var_name='original_col_id', value_name='Amount')"
   ]
  },
  {
   "cell_type": "code",
   "execution_count": 38,
   "id": "b62f6879",
   "metadata": {},
   "outputs": [],
   "source": [
    "final_df = pd.merge(melted_df, headers_lookup, on='original_col_id', how='left')"
   ]
  },
  {
   "cell_type": "code",
   "execution_count": null,
   "id": "c1bbd0fa",
   "metadata": {},
   "outputs": [],
   "source": [
    "filtered_df = final_df[final_df['Program'] != 'All Programs and Products'].copy()\n"
   ]
  },
  {
   "cell_type": "code",
   "execution_count": 40,
   "id": "215cd5f3",
   "metadata": {},
   "outputs": [
    {
     "data": {
      "text/html": [
       "<div>\n",
       "<style scoped>\n",
       "    .dataframe tbody tr th:only-of-type {\n",
       "        vertical-align: middle;\n",
       "    }\n",
       "\n",
       "    .dataframe tbody tr th {\n",
       "        vertical-align: top;\n",
       "    }\n",
       "\n",
       "    .dataframe thead th {\n",
       "        text-align: right;\n",
       "    }\n",
       "</style>\n",
       "<table border=\"1\" class=\"dataframe\">\n",
       "  <thead>\n",
       "    <tr style=\"text-align: right;\">\n",
       "      <th></th>\n",
       "      <th>Program</th>\n",
       "      <th>original_col_id</th>\n",
       "      <th>Amount</th>\n",
       "      <th>university</th>\n",
       "      <th>type</th>\n",
       "      <th>code</th>\n",
       "      <th>month_year</th>\n",
       "    </tr>\n",
       "  </thead>\n",
       "  <tbody>\n",
       "    <tr>\n",
       "      <th>1</th>\n",
       "      <td>ACCA QUALIFICATION (MODULAR)</td>\n",
       "      <td>1</td>\n",
       "      <td>0</td>\n",
       "      <td>TUSB</td>\n",
       "      <td>Actual</td>\n",
       "      <td>CAL_S10001 - NUMBER OF STUDENTS - EFTS</td>\n",
       "      <td>Feb-17</td>\n",
       "    </tr>\n",
       "    <tr>\n",
       "      <th>2</th>\n",
       "      <td>ACCA</td>\n",
       "      <td>1</td>\n",
       "      <td>0</td>\n",
       "      <td>TUSB</td>\n",
       "      <td>Actual</td>\n",
       "      <td>CAL_S10001 - NUMBER OF STUDENTS - EFTS</td>\n",
       "      <td>Feb-17</td>\n",
       "    </tr>\n",
       "    <tr>\n",
       "      <th>3</th>\n",
       "      <td>ACCA QUALIFICATION (ACCELERATE)</td>\n",
       "      <td>1</td>\n",
       "      <td>0</td>\n",
       "      <td>TUSB</td>\n",
       "      <td>Actual</td>\n",
       "      <td>CAL_S10001 - NUMBER OF STUDENTS - EFTS</td>\n",
       "      <td>Feb-17</td>\n",
       "    </tr>\n",
       "    <tr>\n",
       "      <th>4</th>\n",
       "      <td>AMERICAN DEGREE TRANSFER PROGRAM (BUSINESS)</td>\n",
       "      <td>1</td>\n",
       "      <td>0</td>\n",
       "      <td>TUSB</td>\n",
       "      <td>Actual</td>\n",
       "      <td>CAL_S10001 - NUMBER OF STUDENTS - EFTS</td>\n",
       "      <td>Feb-17</td>\n",
       "    </tr>\n",
       "    <tr>\n",
       "      <th>5</th>\n",
       "      <td>AMERICAN DEGREE TRANSFER PROGRAM (COMPUTER SCI...</td>\n",
       "      <td>1</td>\n",
       "      <td>0</td>\n",
       "      <td>TUSB</td>\n",
       "      <td>Actual</td>\n",
       "      <td>CAL_S10001 - NUMBER OF STUDENTS - EFTS</td>\n",
       "      <td>Feb-17</td>\n",
       "    </tr>\n",
       "  </tbody>\n",
       "</table>\n",
       "</div>"
      ],
      "text/plain": [
       "                                             Program original_col_id Amount  \\\n",
       "1                       ACCA QUALIFICATION (MODULAR)               1      0   \n",
       "2                                               ACCA               1      0   \n",
       "3                    ACCA QUALIFICATION (ACCELERATE)               1      0   \n",
       "4        AMERICAN DEGREE TRANSFER PROGRAM (BUSINESS)               1      0   \n",
       "5  AMERICAN DEGREE TRANSFER PROGRAM (COMPUTER SCI...               1      0   \n",
       "\n",
       "  university    type                                    code month_year  \n",
       "1       TUSB  Actual  CAL_S10001 - NUMBER OF STUDENTS - EFTS     Feb-17  \n",
       "2       TUSB  Actual  CAL_S10001 - NUMBER OF STUDENTS - EFTS     Feb-17  \n",
       "3       TUSB  Actual  CAL_S10001 - NUMBER OF STUDENTS - EFTS     Feb-17  \n",
       "4       TUSB  Actual  CAL_S10001 - NUMBER OF STUDENTS - EFTS     Feb-17  \n",
       "5       TUSB  Actual  CAL_S10001 - NUMBER OF STUDENTS - EFTS     Feb-17  "
      ]
     },
     "execution_count": 40,
     "metadata": {},
     "output_type": "execute_result"
    }
   ],
   "source": [
    "filtered_df \n",
    "efts_df_final = filtered_df.copy()\n",
    "efts_df_final.head(5)"
   ]
  },
  {
   "cell_type": "code",
   "execution_count": 41,
   "id": "a63277e3",
   "metadata": {},
   "outputs": [],
   "source": [
    "efts_df_final.drop('original_col_id', axis=1, inplace=True)\n",
    "efts_df_final = efts_df_final.rename(columns={'Amount': 'amount'})\n",
    "efts_df_final = efts_df_final.rename(columns={'Program': 'program'})\n",
    "efts_df_final['label']='EFTS'"
   ]
  },
  {
   "cell_type": "code",
   "execution_count": 42,
   "id": "265a1d4a",
   "metadata": {},
   "outputs": [
    {
     "data": {
      "text/html": [
       "<div>\n",
       "<style scoped>\n",
       "    .dataframe tbody tr th:only-of-type {\n",
       "        vertical-align: middle;\n",
       "    }\n",
       "\n",
       "    .dataframe tbody tr th {\n",
       "        vertical-align: top;\n",
       "    }\n",
       "\n",
       "    .dataframe thead th {\n",
       "        text-align: right;\n",
       "    }\n",
       "</style>\n",
       "<table border=\"1\" class=\"dataframe\">\n",
       "  <thead>\n",
       "    <tr style=\"text-align: right;\">\n",
       "      <th></th>\n",
       "      <th>program</th>\n",
       "      <th>amount</th>\n",
       "      <th>university</th>\n",
       "      <th>type</th>\n",
       "      <th>code</th>\n",
       "      <th>month_year</th>\n",
       "      <th>label</th>\n",
       "    </tr>\n",
       "  </thead>\n",
       "  <tbody>\n",
       "    <tr>\n",
       "      <th>1</th>\n",
       "      <td>ACCA QUALIFICATION (MODULAR)</td>\n",
       "      <td>0</td>\n",
       "      <td>TUSB</td>\n",
       "      <td>Actual</td>\n",
       "      <td>CAL_S10001 - NUMBER OF STUDENTS - EFTS</td>\n",
       "      <td>Feb-17</td>\n",
       "      <td>EFTS</td>\n",
       "    </tr>\n",
       "    <tr>\n",
       "      <th>2</th>\n",
       "      <td>ACCA</td>\n",
       "      <td>0</td>\n",
       "      <td>TUSB</td>\n",
       "      <td>Actual</td>\n",
       "      <td>CAL_S10001 - NUMBER OF STUDENTS - EFTS</td>\n",
       "      <td>Feb-17</td>\n",
       "      <td>EFTS</td>\n",
       "    </tr>\n",
       "    <tr>\n",
       "      <th>3</th>\n",
       "      <td>ACCA QUALIFICATION (ACCELERATE)</td>\n",
       "      <td>0</td>\n",
       "      <td>TUSB</td>\n",
       "      <td>Actual</td>\n",
       "      <td>CAL_S10001 - NUMBER OF STUDENTS - EFTS</td>\n",
       "      <td>Feb-17</td>\n",
       "      <td>EFTS</td>\n",
       "    </tr>\n",
       "    <tr>\n",
       "      <th>4</th>\n",
       "      <td>AMERICAN DEGREE TRANSFER PROGRAM (BUSINESS)</td>\n",
       "      <td>0</td>\n",
       "      <td>TUSB</td>\n",
       "      <td>Actual</td>\n",
       "      <td>CAL_S10001 - NUMBER OF STUDENTS - EFTS</td>\n",
       "      <td>Feb-17</td>\n",
       "      <td>EFTS</td>\n",
       "    </tr>\n",
       "    <tr>\n",
       "      <th>5</th>\n",
       "      <td>AMERICAN DEGREE TRANSFER PROGRAM (COMPUTER SCI...</td>\n",
       "      <td>0</td>\n",
       "      <td>TUSB</td>\n",
       "      <td>Actual</td>\n",
       "      <td>CAL_S10001 - NUMBER OF STUDENTS - EFTS</td>\n",
       "      <td>Feb-17</td>\n",
       "      <td>EFTS</td>\n",
       "    </tr>\n",
       "  </tbody>\n",
       "</table>\n",
       "</div>"
      ],
      "text/plain": [
       "                                             program amount university  \\\n",
       "1                       ACCA QUALIFICATION (MODULAR)      0       TUSB   \n",
       "2                                               ACCA      0       TUSB   \n",
       "3                    ACCA QUALIFICATION (ACCELERATE)      0       TUSB   \n",
       "4        AMERICAN DEGREE TRANSFER PROGRAM (BUSINESS)      0       TUSB   \n",
       "5  AMERICAN DEGREE TRANSFER PROGRAM (COMPUTER SCI...      0       TUSB   \n",
       "\n",
       "     type                                    code month_year label  \n",
       "1  Actual  CAL_S10001 - NUMBER OF STUDENTS - EFTS     Feb-17  EFTS  \n",
       "2  Actual  CAL_S10001 - NUMBER OF STUDENTS - EFTS     Feb-17  EFTS  \n",
       "3  Actual  CAL_S10001 - NUMBER OF STUDENTS - EFTS     Feb-17  EFTS  \n",
       "4  Actual  CAL_S10001 - NUMBER OF STUDENTS - EFTS     Feb-17  EFTS  \n",
       "5  Actual  CAL_S10001 - NUMBER OF STUDENTS - EFTS     Feb-17  EFTS  "
      ]
     },
     "execution_count": 42,
     "metadata": {},
     "output_type": "execute_result"
    }
   ],
   "source": [
    "efts_df_final.head(5)"
   ]
  },
  {
   "cell_type": "code",
   "execution_count": 43,
   "id": "b8cd2dab",
   "metadata": {},
   "outputs": [
    {
     "data": {
      "text/plain": [
       "744"
      ]
     },
     "execution_count": 43,
     "metadata": {},
     "output_type": "execute_result"
    }
   ],
   "source": [
    "from r2r_pipelines import export_db\n",
    "engine = export_db.marcommdb_connection()\n",
    "efts_df_final.to_sql('tm1_efts', engine, schema='staging', if_exists='replace', index=False)"
   ]
  },
  {
   "cell_type": "markdown",
   "id": "cef610cb",
   "metadata": {},
   "source": [
    "### TM1 Revenue - PBT - GR - NR "
   ]
  },
  {
   "cell_type": "code",
   "execution_count": 47,
   "id": "cbf0a98f",
   "metadata": {},
   "outputs": [],
   "source": [
    "import pandas as pd\n",
    "import re\n",
    "tm1_revenue = \"C:/Users/112363/OneDrive - Taylor's Education Group/DWH_WIP/PEMO/TM1_Revenue.xlsx\""
   ]
  },
  {
   "cell_type": "code",
   "execution_count": 48,
   "id": "36f402c4",
   "metadata": {},
   "outputs": [],
   "source": [
    "gross_revenue = \"Gross_Revenue\"\n",
    "net_revenue = \"Net_Revenue\"\n",
    "pbt = \"PBT\""
   ]
  },
  {
   "cell_type": "code",
   "execution_count": 49,
   "id": "f0115ed6",
   "metadata": {},
   "outputs": [],
   "source": [
    "gr_df = pd.read_excel(tm1_revenue, sheet_name=gross_revenue,header=None)\n",
    "nr_df = pd.read_excel(tm1_revenue, sheet_name=net_revenue,header=None)\n",
    "pbt_df = pd.read_excel(tm1_revenue, sheet_name=pbt,header=None)"
   ]
  },
  {
   "cell_type": "code",
   "execution_count": 50,
   "id": "3a64cb99",
   "metadata": {},
   "outputs": [],
   "source": [
    "gr_df.at[0, 0] = \"university\"\n",
    "gr_df.at[1, 0] = \"type\"\n",
    "gr_df.at[2, 0] = \"code\"\n",
    "gr_df.at[3, 0] = \"month_year\"\n",
    "\n",
    "\n",
    "nr_df.at[0, 0] = \"university\"\n",
    "nr_df.at[1, 0] = \"type\"\n",
    "nr_df.at[2, 0] = \"code\"\n",
    "nr_df.at[3, 0] = \"month_year\"\n",
    "\n",
    "\n",
    "pbt_df.at[0, 0] = \"university\"\n",
    "pbt_df.at[1, 0] = \"type\"\n",
    "pbt_df.at[2, 0] = \"code\"\n",
    "pbt_df.at[3, 0] = \"month_year\""
   ]
  },
  {
   "cell_type": "code",
   "execution_count": null,
   "id": "463deef8",
   "metadata": {},
   "outputs": [],
   "source": [
    "# --- Splitting the Dataframes ---\n",
    "# --- gr_df  ---\n",
    "rows_to_melt_gr = gr_df.iloc[0:4]  # Rows 0-3 (university, type, code, month_year)\n",
    "rows_to_keep_gr = gr_df.iloc[5:]   # Rows 5+ (ACCA QUALIFICATION, etc.)\n",
    "\n",
    "# --- nr_df ---\n",
    "rows_to_melt_nr = nr_df.iloc[0:4]  # Rows 0-3 (university, type, code, month_year)\n",
    "rows_to_keep_nr = nr_df.iloc[5:]   # Rows 5+ (ACCA QUALIFICATION, etc.)\n",
    "\n",
    "# --- pbt_df ---\n",
    "rows_to_melt_pbt = pbt_df.iloc[0:4]  # Rows 0-3 (university, type, code, month_year)\n",
    "rows_to_keep_pbt = pbt_df.iloc[5:]   # Rows 5+ (ACCA QUALIFICATION, etc.)"
   ]
  },
  {
   "cell_type": "code",
   "execution_count": 52,
   "id": "9bb25923",
   "metadata": {},
   "outputs": [],
   "source": [
    "# --- Headers and data ---\n",
    "\n",
    "# --- gr_df  ---\n",
    "headers_df_gr = gr_df.iloc[0:4].copy()\n",
    "data_df_gr = gr_df.iloc[4:].copy()\n",
    "\n",
    "# --- nr_df  ---\n",
    "headers_df_nr = nr_df.iloc[0:4].copy()\n",
    "data_df_nr = nr_df.iloc[4:].copy()\n",
    "\n",
    "# --- pbt_df  ---\n",
    "headers_df_pbt = pbt_df.iloc[0:4].copy()\n",
    "data_df_pbt = pbt_df.iloc[4:].copy()"
   ]
  },
  {
   "cell_type": "code",
   "execution_count": 53,
   "id": "d62572e9",
   "metadata": {},
   "outputs": [],
   "source": [
    "#--- Transformation of headers ---\n",
    "\n",
    "# --- gr_df  ---\n",
    "headers_lookup_gr = headers_df_gr.T\n",
    "headers_lookup_gr.columns = headers_lookup_gr.iloc[0]\n",
    "headers_lookup_gr = headers_lookup_gr[1:].reset_index()\n",
    "headers_lookup_gr.rename(columns={'index': 'original_col_id'}, inplace=True)\n",
    "\n",
    "# --- nr_df  ---\n",
    "headers_lookup_nr = headers_df_nr.T\n",
    "headers_lookup_nr.columns = headers_lookup_nr.iloc[0]\n",
    "headers_lookup_nr = headers_lookup_nr[1:].reset_index()\n",
    "headers_lookup_nr.rename(columns={'index': 'original_col_id'}, inplace=True)\n",
    "\n",
    "# --- pbt_df  ---\n",
    "headers_lookup_pbt = headers_df_pbt.T\n",
    "headers_lookup_pbt.columns = headers_lookup_pbt.iloc[0]\n",
    "headers_lookup_pbt = headers_lookup_pbt[1:].reset_index()\n",
    "headers_lookup_pbt.rename(columns={'index': 'original_col_id'}, inplace=True)"
   ]
  },
  {
   "cell_type": "code",
   "execution_count": 54,
   "id": "ea821418",
   "metadata": {},
   "outputs": [],
   "source": [
    "data_df_gr.rename(columns={0: 'Program'}, inplace=True)\n",
    "data_df_nr.rename(columns={0: 'Program'}, inplace=True)\n",
    "data_df_pbt.rename(columns={0: 'Program'}, inplace=True)"
   ]
  },
  {
   "cell_type": "code",
   "execution_count": 55,
   "id": "7d15d4a1",
   "metadata": {},
   "outputs": [],
   "source": [
    "# --- gr_df  ---\n",
    "id_vars_gr = ['Program']\n",
    "value_vars_gr = [col for col in data_df_gr.columns if col not in id_vars_gr]\n",
    "\n",
    "# --- nr_df  ---\n",
    "id_vars_nr = ['Program']\n",
    "value_vars_nr = [col for col in data_df_nr.columns if col not in id_vars_nr]\n",
    "\n",
    "# --- pbt_df  ---\n",
    "id_vars_pbt = ['Program']\n",
    "value_vars_pbt = [col for col in data_df_pbt.columns if col not in id_vars_pbt]"
   ]
  },
  {
   "cell_type": "code",
   "execution_count": null,
   "id": "e5085144",
   "metadata": {},
   "outputs": [],
   "source": [
    "# --- gr_df  ---\n",
    "melted_df_gr = pd.melt(data_df_gr, id_vars=id_vars_gr, value_vars=value_vars_gr,\n",
    "                        var_name='original_col_id', value_name='Amount')\n",
    "\n",
    "# --- nr_df  ---\n",
    "melted_df_nr = pd.melt(data_df_nr, id_vars=id_vars_nr, value_vars=value_vars_nr,\n",
    "                        var_name='original_col_id', value_name='Amount')\n",
    "\n",
    "# --- pbt_df  ---\n",
    "melted_df_pbt = pd.melt(data_df_pbt, id_vars=id_vars_pbt, value_vars=value_vars_pbt,\n",
    "                        var_name='original_col_id', value_name='Amount')"
   ]
  },
  {
   "cell_type": "code",
   "execution_count": 60,
   "id": "32906605",
   "metadata": {},
   "outputs": [],
   "source": [
    "final_df_gr = pd.merge(melted_df_gr, headers_lookup_gr, on='original_col_id', how='left')\n",
    "final_df_nr = pd.merge(melted_df_nr, headers_lookup_nr, on='original_col_id', how='left')\n",
    "final_df_pbt= pd.merge(melted_df_pbt, headers_lookup_pbt, on='original_col_id', how='left')"
   ]
  },
  {
   "cell_type": "code",
   "execution_count": 61,
   "id": "dfb4d699",
   "metadata": {},
   "outputs": [],
   "source": [
    "filtered_df_gr = final_df_gr[final_df_gr['Program'] != 'All Programs and Products'].copy()\n",
    "gr_df_final = filtered_df_gr.copy()\n",
    "\n",
    "filtered_df_nr = final_df_nr[final_df_nr['Program'] != 'All Programs and Products'].copy()\n",
    "nr_df_final = filtered_df_nr.copy()\n",
    "\n",
    "filtered_df_pbt = final_df_pbt[final_df_pbt['Program'] != 'All Programs and Products'].copy()\n",
    "pbt_df_final = filtered_df_pbt.copy()"
   ]
  },
  {
   "cell_type": "code",
   "execution_count": 62,
   "id": "8ce5316f",
   "metadata": {},
   "outputs": [],
   "source": [
    "gr_df_final.drop('original_col_id', axis=1, inplace=True)\n",
    "gr_df_final = gr_df_final.rename(columns={'Amount': 'amount'})\n",
    "gr_df_final = gr_df_final.rename(columns={'Program': 'program'})\n",
    "gr_df_final['label']='Gross Revenue'\n",
    "\n",
    "nr_df_final.drop('original_col_id', axis=1, inplace=True)\n",
    "nr_df_final = nr_df_final.rename(columns={'Amount': 'amount'})\n",
    "nr_df_final = nr_df_final.rename(columns={'Program': 'program'})\n",
    "nr_df_final['label']='Net Revenue'\n",
    "\n",
    "pbt_df_final.drop('original_col_id', axis=1, inplace=True)\n",
    "pbt_df_final = pbt_df_final.rename(columns={'Amount': 'amount'})\n",
    "pbt_df_final = pbt_df_final.rename(columns={'Program': 'program'})\n",
    "pbt_df_final['label']='PBT'"
   ]
  },
  {
   "cell_type": "code",
   "execution_count": null,
   "id": "0234c8ee",
   "metadata": {},
   "outputs": [
    {
     "data": {
      "text/plain": [
       "34"
      ]
     },
     "execution_count": 64,
     "metadata": {},
     "output_type": "execute_result"
    }
   ],
   "source": [
    "gr_df_final.to_sql('tm1_gross_revenue', engine, schema='staging', if_exists='replace', index=False)"
   ]
  },
  {
   "cell_type": "code",
   "execution_count": 65,
   "id": "05332940",
   "metadata": {},
   "outputs": [
    {
     "data": {
      "text/plain": [
       "34"
      ]
     },
     "execution_count": 65,
     "metadata": {},
     "output_type": "execute_result"
    }
   ],
   "source": [
    "nr_df_final.to_sql('tm1_net_revenue', engine, schema='staging', if_exists='replace', index=False)"
   ]
  },
  {
   "cell_type": "code",
   "execution_count": 66,
   "id": "9834f655",
   "metadata": {},
   "outputs": [
    {
     "data": {
      "text/plain": [
       "382"
      ]
     },
     "execution_count": 66,
     "metadata": {},
     "output_type": "execute_result"
    }
   ],
   "source": [
    "pbt_df_final.to_sql('tm1_pbt', engine, schema='staging', if_exists='replace', index=False)"
   ]
  },
  {
   "cell_type": "markdown",
   "id": "8413b18d",
   "metadata": {},
   "source": [
    "### Revenue Exclusion TM1"
   ]
  },
  {
   "cell_type": "code",
   "execution_count": 1,
   "id": "5a2f81ad",
   "metadata": {},
   "outputs": [],
   "source": [
    "import pandas as pd\n",
    "import re\n",
    "tm1_exclusion = \"C:/Users/112363/OneDrive - Taylor's Education Group/DWH_WIP/PEMO/TM1_Exclusion.xlsx\""
   ]
  },
  {
   "cell_type": "code",
   "execution_count": 2,
   "id": "1c78a3f7",
   "metadata": {},
   "outputs": [],
   "source": [
    "exclusion = \"Exclusion\""
   ]
  },
  {
   "cell_type": "code",
   "execution_count": 4,
   "id": "e6a546da",
   "metadata": {},
   "outputs": [],
   "source": [
    "exclusion_df = pd.read_excel(tm1_exclusion, sheet_name=exclusion,header=None)"
   ]
  },
  {
   "cell_type": "code",
   "execution_count": 6,
   "id": "e22388e2",
   "metadata": {},
   "outputs": [],
   "source": [
    "exclusion_df.at[0, 0] = \"university\"\n",
    "exclusion_df.at[1, 0] = \"code\"\n",
    "exclusion_df.at[2, 0] = \"month_year\""
   ]
  },
  {
   "cell_type": "code",
   "execution_count": 7,
   "id": "73ab0494",
   "metadata": {},
   "outputs": [],
   "source": [
    "# --- exclusion_df  ---\n",
    "rows_to_melt_ex = exclusion_df.iloc[0:3]  # Rows 0-3 (university, type, code, month_year)\n",
    "rows_to_keep_ex = exclusion_df.iloc[4:]   # Rows 5+ (ACCA QUALIFICATION, etc.)"
   ]
  },
  {
   "cell_type": "code",
   "execution_count": 8,
   "id": "9fb016bb",
   "metadata": {},
   "outputs": [],
   "source": [
    "headers_df_ex = exclusion_df.iloc[0:3].copy()\n",
    "data_df_ex = exclusion_df.iloc[3:].copy()"
   ]
  },
  {
   "cell_type": "code",
   "execution_count": 9,
   "id": "d7448046",
   "metadata": {},
   "outputs": [],
   "source": [
    "headers_lookup_ex = headers_df_ex.T\n",
    "headers_lookup_ex.columns = headers_lookup_ex.iloc[0]\n",
    "headers_lookup_ex = headers_lookup_ex[1:].reset_index()\n",
    "headers_lookup_ex.rename(columns={'index': 'original_col_id'}, inplace=True)"
   ]
  },
  {
   "cell_type": "code",
   "execution_count": 10,
   "id": "57fe05d0",
   "metadata": {},
   "outputs": [],
   "source": [
    "data_df_ex.rename(columns={0: 'Program'}, inplace=True)"
   ]
  },
  {
   "cell_type": "code",
   "execution_count": 11,
   "id": "8f9e3ee3",
   "metadata": {},
   "outputs": [],
   "source": [
    "id_vars_ex = ['Program']\n",
    "value_vars_ex = [col for col in data_df_ex.columns if col not in id_vars_ex]"
   ]
  },
  {
   "cell_type": "code",
   "execution_count": 12,
   "id": "def6d755",
   "metadata": {},
   "outputs": [],
   "source": [
    "melted_df_ex = pd.melt(data_df_ex, id_vars=id_vars_ex, value_vars=value_vars_ex,\n",
    "                        var_name='original_col_id', value_name='Amount')"
   ]
  },
  {
   "cell_type": "code",
   "execution_count": 13,
   "id": "d2357fa8",
   "metadata": {},
   "outputs": [],
   "source": [
    "final_df_ex = pd.merge(melted_df_ex, headers_lookup_ex, on='original_col_id', how='left')"
   ]
  },
  {
   "cell_type": "code",
   "execution_count": 14,
   "id": "b5b1c523",
   "metadata": {},
   "outputs": [],
   "source": [
    "filtered_df_ex = final_df_ex[final_df_ex['Program'] != 'All Programs and Products'].copy()\n",
    "ex_df_final = filtered_df_ex.copy()"
   ]
  },
  {
   "cell_type": "code",
   "execution_count": 15,
   "id": "0d0f0812",
   "metadata": {},
   "outputs": [],
   "source": [
    "ex_df_final.drop('original_col_id', axis=1, inplace=True)\n",
    "ex_df_final = ex_df_final.rename(columns={'Amount': 'amount'})\n",
    "ex_df_final = ex_df_final.rename(columns={'Program': 'program'})\n",
    "ex_df_final['label']='Exclusion'\n"
   ]
  },
  {
   "cell_type": "code",
   "execution_count": 17,
   "id": "5f93a3cf",
   "metadata": {},
   "outputs": [
    {
     "data": {
      "text/plain": [
       "102"
      ]
     },
     "execution_count": 17,
     "metadata": {},
     "output_type": "execute_result"
    }
   ],
   "source": [
    "from r2r_pipelines import export_db\n",
    "engine = export_db.marcommdb_connection()\n",
    "ex_df_final.to_sql('tm1_exclusion', engine, schema='staging', if_exists='replace', index=False)"
   ]
  }
 ],
 "metadata": {
  "kernelspec": {
   "display_name": "Python 3",
   "language": "python",
   "name": "python3"
  },
  "language_info": {
   "codemirror_mode": {
    "name": "ipython",
    "version": 3
   },
   "file_extension": ".py",
   "mimetype": "text/x-python",
   "name": "python",
   "nbconvert_exporter": "python",
   "pygments_lexer": "ipython3",
   "version": "3.12.0"
  }
 },
 "nbformat": 4,
 "nbformat_minor": 5
}
